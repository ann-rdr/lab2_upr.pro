{
 "cells": [
  {
   "cell_type": "markdown",
   "id": "d59b6151",
   "metadata": {},
   "source": [
    "**Задача 1**"
   ]
  },
  {
   "cell_type": "markdown",
   "id": "f303542d",
   "metadata": {},
   "source": [
    "Напишите две функции. Первая функция заполняет массив случайными значениями, вторая функция выводит массив на экран"
   ]
  },
  {
   "cell_type": "code",
   "execution_count": 98,
   "id": "45273b23",
   "metadata": {},
   "outputs": [],
   "source": [
    "import numpy as np\n",
    "import random"
   ]
  },
  {
   "cell_type": "code",
   "execution_count": 99,
   "id": "91cc16da",
   "metadata": {},
   "outputs": [],
   "source": [
    "def fill(a):\n",
    "    n = input() #number of figures\n",
    "    a = np.random.randint(0, 100, int(n))\n",
    "    return a"
   ]
  },
  {
   "cell_type": "code",
   "execution_count": 100,
   "id": "3d3dcb0e",
   "metadata": {},
   "outputs": [],
   "source": [
    "def Print():\n",
    "    arr = np.array([])\n",
    "    arr = fill(arr)\n",
    "    print(arr)"
   ]
  },
  {
   "cell_type": "code",
   "execution_count": 101,
   "id": "2e731dda",
   "metadata": {},
   "outputs": [
    {
     "name": "stdout",
     "output_type": "stream",
     "text": [
      "10\n",
      "[28 63 49 40 92 96 66 94 29 24]\n"
     ]
    }
   ],
   "source": [
    "Print()"
   ]
  },
  {
   "cell_type": "markdown",
   "id": "40606835",
   "metadata": {},
   "source": [
    "**Задача 2**"
   ]
  },
  {
   "cell_type": "code",
   "execution_count": 102,
   "id": "51b22843",
   "metadata": {},
   "outputs": [],
   "source": [
    "import pandas as pd"
   ]
  },
  {
   "cell_type": "code",
   "execution_count": 103,
   "id": "71f723ef",
   "metadata": {},
   "outputs": [],
   "source": [
    "df = pd.read_csv(\"example.csv\", delimiter = ';')"
   ]
  },
  {
   "cell_type": "code",
   "execution_count": 105,
   "id": "45a83d68",
   "metadata": {},
   "outputs": [
    {
     "data": {
      "text/html": [
       "<div>\n",
       "<style scoped>\n",
       "    .dataframe tbody tr th:only-of-type {\n",
       "        vertical-align: middle;\n",
       "    }\n",
       "\n",
       "    .dataframe tbody tr th {\n",
       "        vertical-align: top;\n",
       "    }\n",
       "\n",
       "    .dataframe thead th {\n",
       "        text-align: right;\n",
       "    }\n",
       "</style>\n",
       "<table border=\"1\" class=\"dataframe\">\n",
       "  <thead>\n",
       "    <tr style=\"text-align: right;\">\n",
       "      <th></th>\n",
       "      <th>student</th>\n",
       "      <th>birth</th>\n",
       "      <th>subject1</th>\n",
       "      <th>teacher1</th>\n",
       "      <th>date1</th>\n",
       "      <th>mark1</th>\n",
       "      <th>subject2</th>\n",
       "      <th>teacher2</th>\n",
       "      <th>date2</th>\n",
       "      <th>mark2</th>\n",
       "      <th>...</th>\n",
       "      <th>date3</th>\n",
       "      <th>mark3</th>\n",
       "      <th>subject4</th>\n",
       "      <th>teacher4</th>\n",
       "      <th>date4</th>\n",
       "      <th>mark4</th>\n",
       "      <th>subject5</th>\n",
       "      <th>teacher5</th>\n",
       "      <th>date5</th>\n",
       "      <th>mark5</th>\n",
       "    </tr>\n",
       "  </thead>\n",
       "  <tbody>\n",
       "    <tr>\n",
       "      <th>0</th>\n",
       "      <td>Ivanov Ivan Ivanovich</td>\n",
       "      <td>05.09.1999</td>\n",
       "      <td>Math</td>\n",
       "      <td>Huilo M.V.</td>\n",
       "      <td>30.05.2022</td>\n",
       "      <td>5.0</td>\n",
       "      <td>NaN</td>\n",
       "      <td>NaN</td>\n",
       "      <td>NaN</td>\n",
       "      <td>7</td>\n",
       "      <td>...</td>\n",
       "      <td>NaN</td>\n",
       "      <td>NaN</td>\n",
       "      <td>NaN</td>\n",
       "      <td>NaN</td>\n",
       "      <td>NaN</td>\n",
       "      <td>NaN</td>\n",
       "      <td>NaN</td>\n",
       "      <td>NaN</td>\n",
       "      <td>NaN</td>\n",
       "      <td>NaN</td>\n",
       "    </tr>\n",
       "    <tr>\n",
       "      <th>1</th>\n",
       "      <td>Pchelovodov Maxim Petrovich</td>\n",
       "      <td>29.09.2002</td>\n",
       "      <td>History</td>\n",
       "      <td>Voron A.E.</td>\n",
       "      <td>02.06.2022</td>\n",
       "      <td>3.0</td>\n",
       "      <td>NaN</td>\n",
       "      <td>NaN</td>\n",
       "      <td>NaN</td>\n",
       "      <td>7</td>\n",
       "      <td>...</td>\n",
       "      <td>NaN</td>\n",
       "      <td>6.0</td>\n",
       "      <td>NaN</td>\n",
       "      <td>NaN</td>\n",
       "      <td>NaN</td>\n",
       "      <td>9.0</td>\n",
       "      <td>NaN</td>\n",
       "      <td>NaN</td>\n",
       "      <td>NaN</td>\n",
       "      <td>NaN</td>\n",
       "    </tr>\n",
       "    <tr>\n",
       "      <th>2</th>\n",
       "      <td>Alexandrov Makar Urevich</td>\n",
       "      <td>09.02.1999</td>\n",
       "      <td>CS</td>\n",
       "      <td>Slast S.A.</td>\n",
       "      <td>28.06.2022</td>\n",
       "      <td>9.0</td>\n",
       "      <td>NaN</td>\n",
       "      <td>NaN</td>\n",
       "      <td>NaN</td>\n",
       "      <td>4</td>\n",
       "      <td>...</td>\n",
       "      <td>NaN</td>\n",
       "      <td>7.0</td>\n",
       "      <td>NaN</td>\n",
       "      <td>NaN</td>\n",
       "      <td>NaN</td>\n",
       "      <td>NaN</td>\n",
       "      <td>NaN</td>\n",
       "      <td>NaN</td>\n",
       "      <td>NaN</td>\n",
       "      <td>8.0</td>\n",
       "    </tr>\n",
       "  </tbody>\n",
       "</table>\n",
       "<p>3 rows × 22 columns</p>\n",
       "</div>"
      ],
      "text/plain": [
       "                       student       birth subject1    teacher1       date1  \\\n",
       "0        Ivanov Ivan Ivanovich  05.09.1999     Math  Huilo M.V.  30.05.2022   \n",
       "1  Pchelovodov Maxim Petrovich  29.09.2002  History  Voron A.E.  02.06.2022   \n",
       "2     Alexandrov Makar Urevich  09.02.1999       CS  Slast S.A.  28.06.2022   \n",
       "\n",
       "   mark1  subject2  teacher2  date2  mark2  ...  date3  mark3  subject4  \\\n",
       "0    5.0       NaN       NaN    NaN      7  ...    NaN    NaN       NaN   \n",
       "1    3.0       NaN       NaN    NaN      7  ...    NaN    6.0       NaN   \n",
       "2    9.0       NaN       NaN    NaN      4  ...    NaN    7.0       NaN   \n",
       "\n",
       "   teacher4  date4  mark4  subject5  teacher5  date5  mark5  \n",
       "0       NaN    NaN    NaN       NaN       NaN    NaN    NaN  \n",
       "1       NaN    NaN    9.0       NaN       NaN    NaN    NaN  \n",
       "2       NaN    NaN    NaN       NaN       NaN    NaN    8.0  \n",
       "\n",
       "[3 rows x 22 columns]"
      ]
     },
     "execution_count": 105,
     "metadata": {},
     "output_type": "execute_result"
    }
   ],
   "source": [
    "df.head()"
   ]
  },
  {
   "cell_type": "code",
   "execution_count": 106,
   "id": "c5ee83cc",
   "metadata": {},
   "outputs": [],
   "source": [
    "def Res(df):\n",
    "    df2 = df[[\"mark1\", \"mark2\", \"mark3\", \"mark4\", \"mark5\"]].copy()\n",
    "    df2[\"mean\"] = df2.mean(axis = 1)\n",
    "    return pd.concat([df[\"student\"], df2[\"mean\"]], axis = 1)"
   ]
  },
  {
   "cell_type": "code",
   "execution_count": 107,
   "id": "2c347381",
   "metadata": {},
   "outputs": [
    {
     "data": {
      "text/html": [
       "<div>\n",
       "<style scoped>\n",
       "    .dataframe tbody tr th:only-of-type {\n",
       "        vertical-align: middle;\n",
       "    }\n",
       "\n",
       "    .dataframe tbody tr th {\n",
       "        vertical-align: top;\n",
       "    }\n",
       "\n",
       "    .dataframe thead th {\n",
       "        text-align: right;\n",
       "    }\n",
       "</style>\n",
       "<table border=\"1\" class=\"dataframe\">\n",
       "  <thead>\n",
       "    <tr style=\"text-align: right;\">\n",
       "      <th></th>\n",
       "      <th>student</th>\n",
       "      <th>mean</th>\n",
       "    </tr>\n",
       "  </thead>\n",
       "  <tbody>\n",
       "    <tr>\n",
       "      <th>0</th>\n",
       "      <td>Ivanov Ivan Ivanovich</td>\n",
       "      <td>6.00</td>\n",
       "    </tr>\n",
       "    <tr>\n",
       "      <th>1</th>\n",
       "      <td>Pchelovodov Maxim Petrovich</td>\n",
       "      <td>6.25</td>\n",
       "    </tr>\n",
       "    <tr>\n",
       "      <th>2</th>\n",
       "      <td>Alexandrov Makar Urevich</td>\n",
       "      <td>7.00</td>\n",
       "    </tr>\n",
       "  </tbody>\n",
       "</table>\n",
       "</div>"
      ],
      "text/plain": [
       "                       student  mean\n",
       "0        Ivanov Ivan Ivanovich  6.00\n",
       "1  Pchelovodov Maxim Petrovich  6.25\n",
       "2     Alexandrov Makar Urevich  7.00"
      ]
     },
     "execution_count": 107,
     "metadata": {},
     "output_type": "execute_result"
    }
   ],
   "source": [
    "Res(df)"
   ]
  },
  {
   "cell_type": "code",
   "execution_count": null,
   "id": "219e5c5d",
   "metadata": {},
   "outputs": [],
   "source": []
  }
 ],
 "metadata": {
  "kernelspec": {
   "display_name": "Python 3 (ipykernel)",
   "language": "python",
   "name": "python3"
  },
  "language_info": {
   "codemirror_mode": {
    "name": "ipython",
    "version": 3
   },
   "file_extension": ".py",
   "mimetype": "text/x-python",
   "name": "python",
   "nbconvert_exporter": "python",
   "pygments_lexer": "ipython3",
   "version": "3.9.7"
  }
 },
 "nbformat": 4,
 "nbformat_minor": 5
}
