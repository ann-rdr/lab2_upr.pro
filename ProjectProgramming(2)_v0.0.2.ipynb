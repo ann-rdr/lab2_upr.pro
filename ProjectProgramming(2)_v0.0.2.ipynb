{
  "metadata": {
    "language_info": {
      "codemirror_mode": {
        "name": "python",
        "version": 3
      },
      "file_extension": ".py",
      "mimetype": "text/x-python",
      "name": "python",
      "nbconvert_exporter": "python",
      "pygments_lexer": "ipython3",
      "version": "3.8"
    },
    "kernelspec": {
      "name": "python",
      "display_name": "Pyolite",
      "language": "python"
    }
  },
  "nbformat_minor": 4,
  "nbformat": 4,
  "cells": [
    {
      "cell_type": "code",
      "source": "import pandas as pd",
      "metadata": {
        "trusted": true
      },
      "execution_count": 5,
      "outputs": []
    },
    {
      "cell_type": "code",
      "source": "df = pd.read_csv(\"example.csv\", delimiter = ';')",
      "metadata": {},
      "execution_count": null,
      "outputs": []
    },
    {
      "cell_type": "code",
      "source": "df.head()",
      "metadata": {},
      "execution_count": null,
      "outputs": []
    },
    {
      "cell_type": "code",
      "source": "def Res(df):\n    df2 = df[[\"mark1\", \"mark2\", \"mark3\", \"mark4\", \"mark5\"]].copy()\n    df2[\"mean\"] = df2.mean(axis = 1)\n    return pd.concat([df[\"student\"], df2[\"mean\"]], axis = 1)",
      "metadata": {},
      "execution_count": null,
      "outputs": []
    },
    {
      "cell_type": "code",
      "source": "Res(df)",
      "metadata": {},
      "execution_count": null,
      "outputs": []
    }
  ]
}